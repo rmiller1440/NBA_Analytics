{
 "cells": [
  {
   "cell_type": "code",
   "execution_count": null,
   "metadata": {},
   "outputs": [],
   "source": [
    "from os import path\n",
    "import pandas as pd\n",
    "\n",
    "DATA_DIR = './data'"
   ]
  },
  {
   "cell_type": "code",
   "execution_count": null,
   "metadata": {},
   "outputs": [],
   "source": [
    "# Loading Data from csv file.\n",
    "shots = pd.read_csv(path.join(DATA_DIR, 'shots.csv'))\n",
    "type(shots)"
   ]
  },
  {
   "cell_type": "code",
   "execution_count": null,
   "metadata": {},
   "outputs": [],
   "source": [
    "#.head is a method that prints the first five rows of data. By default only 5 rows are printed, but the number can be changed inside of the method.\n",
    "shots.head()"
   ]
  },
  {
   "cell_type": "code",
   "execution_count": null,
   "metadata": {},
   "outputs": [],
   "source": [
    "#.columns is one of the many attributes of a dataframe.\n",
    "shots.columns\n"
   ]
  },
  {
   "cell_type": "code",
   "execution_count": null,
   "metadata": {},
   "outputs": [],
   "source": [
    "# Indicates how many rows and columns are in the dataframe.\n",
    "shots.shape"
   ]
  },
  {
   "cell_type": "code",
   "execution_count": null,
   "metadata": {},
   "outputs": [],
   "source": [
    "# References the name column and prints the data from that column. A single column in a data frame is refered to as a series\n",
    "shots['name'].head()\n",
    "#type(shots['name'])"
   ]
  },
  {
   "cell_type": "code",
   "execution_count": null,
   "metadata": {},
   "outputs": [],
   "source": [
    "#converts series to dataframe and prints the result.\n",
    "shots['name'].to_frame().head()"
   ]
  },
  {
   "cell_type": "code",
   "execution_count": null,
   "metadata": {},
   "outputs": [],
   "source": [
    "#Used to print multiple columns. a list has to be passed which results in having two sets of brackets.\n",
    "shots[['name', 'dist','value','made','desc']].head()"
   ]
  },
  {
   "cell_type": "code",
   "execution_count": null,
   "metadata": {},
   "outputs": [],
   "source": [
    "shots.columns"
   ]
  },
  {
   "cell_type": "code",
   "execution_count": null,
   "metadata": {},
   "outputs": [],
   "source": [
    "#Sets the index to shot id. Returns a copy and doesn't actually set the data Frame index\n",
    "shots.set_index('shot_id').head()\n",
    "\n",
    "#shots.head()\n"
   ]
  },
  {
   "cell_type": "code",
   "execution_count": null,
   "metadata": {},
   "outputs": [],
   "source": [
    "#Sets the index and returns the datframe with the updated index\n",
    "shots.set_index('shot_id', inplace=True)\n",
    "shots.head()\n"
   ]
  },
  {
   "cell_type": "code",
   "execution_count": null,
   "metadata": {},
   "outputs": [],
   "source": [
    "# Resets the index of the datframe\n",
    "shots.reset_index().head()\n",
    "#shots.head()"
   ]
  },
  {
   "cell_type": "code",
   "execution_count": null,
   "metadata": {},
   "outputs": [],
   "source": [
    "shots_ot = shots.loc[shots['period']>4,['name', 'dist', 'value']]\n",
    "shots_ot.sort_values('name', inplace = True)\n",
    "shots_ot.head()"
   ]
  },
  {
   "cell_type": "code",
   "execution_count": null,
   "metadata": {},
   "outputs": [],
   "source": [
    "shots_ot['made'] = shots['made']\n",
    "shots_ot.head()"
   ]
  },
  {
   "cell_type": "code",
   "execution_count": null,
   "metadata": {},
   "outputs": [],
   "source": [
    "shots_ot.to_csv(path.join(DATA_DIR, 'shots_ot.csv'), index = False)\n"
   ]
  }
 ],
 "metadata": {
  "kernelspec": {
   "display_name": ".venv",
   "language": "python",
   "name": "python3"
  },
  "language_info": {
   "codemirror_mode": {
    "name": "ipython",
    "version": 3
   },
   "file_extension": ".py",
   "mimetype": "text/x-python",
   "name": "python",
   "nbconvert_exporter": "python",
   "pygments_lexer": "ipython3",
   "version": "3.8.0"
  },
  "orig_nbformat": 4,
  "vscode": {
   "interpreter": {
    "hash": "81fbe71725ef5e023ea2621483683f155f3fe35b66b9c65a19176154f2f359c8"
   }
  }
 },
 "nbformat": 4,
 "nbformat_minor": 2
}
