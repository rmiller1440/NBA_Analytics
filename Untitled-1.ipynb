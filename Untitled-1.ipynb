{
 "cells": [
  {
   "cell_type": "code",
   "execution_count": 5,
   "metadata": {},
   "outputs": [],
   "source": [
    "from os import path\n",
    "import pandas as pd\n",
    "\n",
    "DATA_DIR = './data'"
   ]
  },
  {
   "cell_type": "code",
   "execution_count": 6,
   "metadata": {},
   "outputs": [],
   "source": [
    "pg = pd.read_csv(path.join(DATA_DIR, 'player_game.csv'))"
   ]
  },
  {
   "cell_type": "code",
   "execution_count": 7,
   "metadata": {},
   "outputs": [
    {
     "data": {
      "text/plain": [
       "Index(['name', 'fgm', 'fga', 'fg_pct', 'pts', 'fg3m', 'fg3a', 'fg3_pct', 'ftm',\n",
       "       'fta', 'ft_pct', 'oreb', 'dreb', 'reb', 'ast', 'tov', 'stl', 'blk',\n",
       "       'blka', 'pf', 'pfd', 'min', 'season', 'player_id', 'pos', 'team',\n",
       "       'date', 'game_id', 'plus_minus', 'dd2', 'start'],\n",
       "      dtype='object')"
      ]
     },
     "execution_count": 7,
     "metadata": {},
     "output_type": "execute_result"
    }
   ],
   "source": [
    "pg.columns"
   ]
  },
  {
   "cell_type": "code",
   "execution_count": 17,
   "metadata": {},
   "outputs": [
    {
     "name": "stderr",
     "output_type": "stream",
     "text": [
      "/Users/ron-pc/Python_Projects/NBA_Analytics/.venv/lib/python3.8/site-packages/pandas/core/arraylike.py:402: RuntimeWarning: divide by zero encountered in log\n",
      "  result = getattr(ufunc, method)(*inputs, **kwargs)\n"
     ]
    },
    {
     "data": {
      "text/html": [
       "<div>\n",
       "<style scoped>\n",
       "    .dataframe tbody tr th:only-of-type {\n",
       "        vertical-align: middle;\n",
       "    }\n",
       "\n",
       "    .dataframe tbody tr th {\n",
       "        vertical-align: top;\n",
       "    }\n",
       "\n",
       "    .dataframe thead th {\n",
       "        text-align: right;\n",
       "    }\n",
       "</style>\n",
       "<table border=\"1\" class=\"dataframe\">\n",
       "  <thead>\n",
       "    <tr style=\"text-align: right;\">\n",
       "      <th></th>\n",
       "      <th>name</th>\n",
       "      <th>fgm</th>\n",
       "      <th>fga</th>\n",
       "      <th>fg_pct</th>\n",
       "      <th>pts</th>\n",
       "      <th>fg3m</th>\n",
       "      <th>fg3a</th>\n",
       "      <th>fg3_pct</th>\n",
       "      <th>ftm</th>\n",
       "      <th>fta</th>\n",
       "      <th>...</th>\n",
       "      <th>player_id</th>\n",
       "      <th>pos</th>\n",
       "      <th>team</th>\n",
       "      <th>date</th>\n",
       "      <th>game_id</th>\n",
       "      <th>plus_minus</th>\n",
       "      <th>dd2</th>\n",
       "      <th>start</th>\n",
       "      <th>biggest_impact</th>\n",
       "      <th>ln_pts</th>\n",
       "    </tr>\n",
       "  </thead>\n",
       "  <tbody>\n",
       "    <tr>\n",
       "      <th>668</th>\n",
       "      <td>G. Hayward</td>\n",
       "      <td>8</td>\n",
       "      <td>11</td>\n",
       "      <td>0.727</td>\n",
       "      <td>19</td>\n",
       "      <td>2</td>\n",
       "      <td>2</td>\n",
       "      <td>1.000</td>\n",
       "      <td>1</td>\n",
       "      <td>1</td>\n",
       "      <td>...</td>\n",
       "      <td>202330</td>\n",
       "      <td>Forward</td>\n",
       "      <td>BOS</td>\n",
       "      <td>20200111</td>\n",
       "      <td>21900578</td>\n",
       "      <td>38</td>\n",
       "      <td>0</td>\n",
       "      <td>True</td>\n",
       "      <td>38</td>\n",
       "      <td>2.944439</td>\n",
       "    </tr>\n",
       "    <tr>\n",
       "      <th>176</th>\n",
       "      <td>B. Bogdanovic</td>\n",
       "      <td>9</td>\n",
       "      <td>18</td>\n",
       "      <td>0.500</td>\n",
       "      <td>30</td>\n",
       "      <td>6</td>\n",
       "      <td>11</td>\n",
       "      <td>0.545</td>\n",
       "      <td>6</td>\n",
       "      <td>7</td>\n",
       "      <td>...</td>\n",
       "      <td>202711</td>\n",
       "      <td>Forward</td>\n",
       "      <td>UTA</td>\n",
       "      <td>20191120</td>\n",
       "      <td>21900210</td>\n",
       "      <td>38</td>\n",
       "      <td>0</td>\n",
       "      <td>True</td>\n",
       "      <td>38</td>\n",
       "      <td>3.401197</td>\n",
       "    </tr>\n",
       "    <tr>\n",
       "      <th>1192</th>\n",
       "      <td>H. Barnes</td>\n",
       "      <td>4</td>\n",
       "      <td>8</td>\n",
       "      <td>0.500</td>\n",
       "      <td>12</td>\n",
       "      <td>0</td>\n",
       "      <td>3</td>\n",
       "      <td>0.000</td>\n",
       "      <td>4</td>\n",
       "      <td>4</td>\n",
       "      <td>...</td>\n",
       "      <td>203084</td>\n",
       "      <td>Forward</td>\n",
       "      <td>SAC</td>\n",
       "      <td>20200802</td>\n",
       "      <td>21901247</td>\n",
       "      <td>-37</td>\n",
       "      <td>0</td>\n",
       "      <td>True</td>\n",
       "      <td>37</td>\n",
       "      <td>2.484907</td>\n",
       "    </tr>\n",
       "    <tr>\n",
       "      <th>1541</th>\n",
       "      <td>C. Johnson</td>\n",
       "      <td>5</td>\n",
       "      <td>13</td>\n",
       "      <td>0.385</td>\n",
       "      <td>14</td>\n",
       "      <td>2</td>\n",
       "      <td>9</td>\n",
       "      <td>0.222</td>\n",
       "      <td>2</td>\n",
       "      <td>2</td>\n",
       "      <td>...</td>\n",
       "      <td>1629661</td>\n",
       "      <td>Forward</td>\n",
       "      <td>PHX</td>\n",
       "      <td>20200806</td>\n",
       "      <td>21901270</td>\n",
       "      <td>36</td>\n",
       "      <td>1</td>\n",
       "      <td>True</td>\n",
       "      <td>36</td>\n",
       "      <td>2.639057</td>\n",
       "    </tr>\n",
       "    <tr>\n",
       "      <th>394</th>\n",
       "      <td>B. Beal</td>\n",
       "      <td>6</td>\n",
       "      <td>19</td>\n",
       "      <td>0.316</td>\n",
       "      <td>16</td>\n",
       "      <td>0</td>\n",
       "      <td>7</td>\n",
       "      <td>0.000</td>\n",
       "      <td>4</td>\n",
       "      <td>5</td>\n",
       "      <td>...</td>\n",
       "      <td>203078</td>\n",
       "      <td>Guard</td>\n",
       "      <td>WAS</td>\n",
       "      <td>20191210</td>\n",
       "      <td>21900352</td>\n",
       "      <td>-36</td>\n",
       "      <td>0</td>\n",
       "      <td>True</td>\n",
       "      <td>36</td>\n",
       "      <td>2.772589</td>\n",
       "    </tr>\n",
       "  </tbody>\n",
       "</table>\n",
       "<p>5 rows × 33 columns</p>\n",
       "</div>"
      ],
      "text/plain": [
       "               name  fgm  fga  fg_pct  pts  fg3m  fg3a  fg3_pct  ftm  fta  \\\n",
       "668      G. Hayward    8   11   0.727   19     2     2    1.000    1    1   \n",
       "176   B. Bogdanovic    9   18   0.500   30     6    11    0.545    6    7   \n",
       "1192      H. Barnes    4    8   0.500   12     0     3    0.000    4    4   \n",
       "1541     C. Johnson    5   13   0.385   14     2     9    0.222    2    2   \n",
       "394         B. Beal    6   19   0.316   16     0     7    0.000    4    5   \n",
       "\n",
       "      ...  player_id      pos  team      date   game_id  plus_minus  dd2  \\\n",
       "668   ...     202330  Forward   BOS  20200111  21900578          38    0   \n",
       "176   ...     202711  Forward   UTA  20191120  21900210          38    0   \n",
       "1192  ...     203084  Forward   SAC  20200802  21901247         -37    0   \n",
       "1541  ...    1629661  Forward   PHX  20200806  21901270          36    1   \n",
       "394   ...     203078    Guard   WAS  20191210  21900352         -36    0   \n",
       "\n",
       "      start  biggest_impact    ln_pts  \n",
       "668    True              38  2.944439  \n",
       "176    True              38  3.401197  \n",
       "1192   True              37  2.484907  \n",
       "1541   True              36  2.639057  \n",
       "394    True              36  2.772589  \n",
       "\n",
       "[5 rows x 33 columns]"
      ]
     },
     "execution_count": 17,
     "metadata": {},
     "output_type": "execute_result"
    }
   ],
   "source": [
    "import numpy as np\n",
    "\n",
    "pg['biggest_impact'] = np.abs(pg['plus_minus'])\n",
    "pg['ln_pts'] = np.log(pg['pts'])\n",
    "\n",
    "pg.sort_values('biggest_impact', ascending = False, inplace = True)\n",
    "pg.head()"
   ]
  },
  {
   "cell_type": "code",
   "execution_count": 27,
   "metadata": {},
   "outputs": [
    {
     "name": "stderr",
     "output_type": "stream",
     "text": [
      "/var/folders/g7/5fn2ltg15n591znrc8j0q_sc0000gn/T/ipykernel_10790/3283515282.py:5: FutureWarning: The default value of regex will change from True to False in a future version. In addition, single character regular expressions will *not* be treated as literal strings when regex=True.\n",
      "  pg['name'].str.replace('.',' ').sample(5)\n"
     ]
    },
    {
     "data": {
      "text/plain": [
       "641     D  Garland\n",
       "864       C  White\n",
       "1700     D  Bazley\n",
       "1275     B  Ingram\n",
       "1747      A  Burks\n",
       "Name: name, dtype: object"
      ]
     },
     "execution_count": 27,
     "metadata": {},
     "output_type": "execute_result"
    }
   ],
   "source": [
    "player_game_simple = pg[['name','pts', 'biggest_impact', 'ln_pts']]\n",
    "#player_game_simple.head()\n",
    "#pg['name'].str.upper().sample(5).to_frame\n",
    "\n",
    "pg['name'].str.replace('.',' ').sample(5)\n",
    "#pg.head()\n"
   ]
  },
  {
   "cell_type": "code",
   "execution_count": 29,
   "metadata": {},
   "outputs": [
    {
     "data": {
      "text/html": [
       "<div>\n",
       "<style scoped>\n",
       "    .dataframe tbody tr th:only-of-type {\n",
       "        vertical-align: middle;\n",
       "    }\n",
       "\n",
       "    .dataframe tbody tr th {\n",
       "        vertical-align: top;\n",
       "    }\n",
       "\n",
       "    .dataframe thead th {\n",
       "        text-align: right;\n",
       "    }\n",
       "</style>\n",
       "<table border=\"1\" class=\"dataframe\">\n",
       "  <thead>\n",
       "    <tr style=\"text-align: right;\">\n",
       "      <th></th>\n",
       "      <th>name</th>\n",
       "      <th>is_a_guard</th>\n",
       "    </tr>\n",
       "  </thead>\n",
       "  <tbody>\n",
       "    <tr>\n",
       "      <th>250</th>\n",
       "      <td>D. Walton Jr.</td>\n",
       "      <td>True</td>\n",
       "    </tr>\n",
       "    <tr>\n",
       "      <th>2045</th>\n",
       "      <td>T. Jerome</td>\n",
       "      <td>True</td>\n",
       "    </tr>\n",
       "    <tr>\n",
       "      <th>635</th>\n",
       "      <td>T. Maker</td>\n",
       "      <td>False</td>\n",
       "    </tr>\n",
       "    <tr>\n",
       "      <th>1475</th>\n",
       "      <td>D. Gallinari</td>\n",
       "      <td>False</td>\n",
       "    </tr>\n",
       "    <tr>\n",
       "      <th>216</th>\n",
       "      <td>T. Ross</td>\n",
       "      <td>True</td>\n",
       "    </tr>\n",
       "  </tbody>\n",
       "</table>\n",
       "</div>"
      ],
      "text/plain": [
       "               name  is_a_guard\n",
       "250   D. Walton Jr.        True\n",
       "2045      T. Jerome        True\n",
       "635        T. Maker       False\n",
       "1475   D. Gallinari       False\n",
       "216         T. Ross        True"
      ]
     },
     "execution_count": 29,
     "metadata": {},
     "output_type": "execute_result"
    }
   ],
   "source": [
    "pg['is_a_guard'] = (pg['pos']=='Guard')\n",
    "pg[['name','is_a_guard']].sample(5)"
   ]
  }
 ],
 "metadata": {
  "kernelspec": {
   "display_name": ".venv",
   "language": "python",
   "name": "python3"
  },
  "language_info": {
   "codemirror_mode": {
    "name": "ipython",
    "version": 3
   },
   "file_extension": ".py",
   "mimetype": "text/x-python",
   "name": "python",
   "nbconvert_exporter": "python",
   "pygments_lexer": "ipython3",
   "version": "3.8.0"
  },
  "orig_nbformat": 4,
  "vscode": {
   "interpreter": {
    "hash": "81fbe71725ef5e023ea2621483683f155f3fe35b66b9c65a19176154f2f359c8"
   }
  }
 },
 "nbformat": 4,
 "nbformat_minor": 2
}
